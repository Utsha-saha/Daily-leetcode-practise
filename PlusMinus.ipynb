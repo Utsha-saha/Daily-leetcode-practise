{
 "cells": [
  {
   "cell_type": "code",
   "execution_count": null,
   "id": "45951c6d",
   "metadata": {},
   "outputs": [],
   "source": [
    "#!/bin/python3\n",
    "\n",
    "import math\n",
    "import os\n",
    "import random\n",
    "import re\n",
    "import sys\n",
    "\n",
    "#\n",
    "# Complete the 'plusMinus' function below.\n",
    "# \n",
    "# The function accepts INTEGER_ARRAY arr as parameter.\n",
    "#\n",
    "\n",
    "def plusMinus(arr):\n",
    "    # Write your code here\n",
    " x,y,z=0,0,0;\n",
    " for i in range(0,len(arr)):\n",
    "     if(arr[i]>0):\n",
    "      x=x+1;\n",
    "     elif (arr[i]<0):\n",
    "         y=y+1;\n",
    "     else:  \n",
    "         z=z+1;\n",
    " print(x/len(arr));\n",
    " print(y/len(arr));\n",
    " print(z/len(arr));\n",
    "  \n",
    "     \n",
    "if __name__ == '__main__':\n",
    "    n = int(input().strip())\n",
    "\n",
    "    arr = list(map(int, input().rstrip().split()))\n",
    "\n",
    "    plusMinus(arr)"
   ]
  },
  {
   "cell_type": "code",
   "execution_count": null,
   "id": "dc9f1be0",
   "metadata": {},
   "outputs": [],
   "source": []
  }
 ],
 "metadata": {
  "kernelspec": {
   "display_name": "Python 3 (ipykernel)",
   "language": "python",
   "name": "python3"
  },
  "language_info": {
   "codemirror_mode": {
    "name": "ipython",
    "version": 3
   },
   "file_extension": ".py",
   "mimetype": "text/x-python",
   "name": "python",
   "nbconvert_exporter": "python",
   "pygments_lexer": "ipython3",
   "version": "3.9.13"
  }
 },
 "nbformat": 4,
 "nbformat_minor": 5
}
